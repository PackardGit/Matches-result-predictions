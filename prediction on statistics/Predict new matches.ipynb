{
 "cells": [
  {
   "cell_type": "code",
   "execution_count": 11,
   "metadata": {},
   "outputs": [],
   "source": [
    "import xgboost as xgb\n",
    "import joblib\n",
    "import pandas as pd\n",
    "\n",
    "clf = joblib.load('model')\n",
    "df = pd.read_csv('data/predict_data.csv')\n",
    "teams = pd.read_csv('data/predict_part1.csv')\n",
    "\n",
    "df = df.drop(['Unnamed: 0'], 1)\n"
   ]
  },
  {
   "cell_type": "code",
   "execution_count": 13,
   "metadata": {},
   "outputs": [
    {
     "data": {
      "text/plain": [
       "array([[0.51697856, 0.25371832, 0.22930312],\n",
       "       [0.12351947, 0.11301127, 0.7634693 ],\n",
       "       [0.8027741 , 0.07666013, 0.12056579]], dtype=float32)"
      ]
     },
     "execution_count": 13,
     "metadata": {},
     "output_type": "execute_result"
    }
   ],
   "source": [
    "y_preds = clf.predict_proba(df)\n",
    "y_preds"
   ]
  },
  {
   "cell_type": "code",
   "execution_count": 22,
   "metadata": {},
   "outputs": [
    {
     "name": "stdout",
     "output_type": "stream",
     "text": [
      "Sheffield United vs Newcastle, predictions: [0.51697856 0.25371832 0.22930312] \n",
      "\n",
      "Burnley vs Man United, predictions: [0.12351947 0.11301127 0.7634693 ] \n",
      "\n",
      "Man City vs Brighton, predictions: [0.8027741  0.07666013 0.12056579] \n",
      "\n"
     ]
    }
   ],
   "source": [
    "for i in range(len(df)):\n",
    "    print(f'{teams.HomeTeam[i]} vs {teams.AwayTeam[i]}, predictions: {y_preds[i]} \\n')"
   ]
  },
  {
   "cell_type": "code",
   "execution_count": null,
   "metadata": {},
   "outputs": [],
   "source": []
  }
 ],
 "metadata": {
  "kernelspec": {
   "display_name": "Python 3.7 (tensorflow)",
   "language": "python",
   "name": "tensorflow"
  },
  "language_info": {
   "codemirror_mode": {
    "name": "ipython",
    "version": 3
   },
   "file_extension": ".py",
   "mimetype": "text/x-python",
   "name": "python",
   "nbconvert_exporter": "python",
   "pygments_lexer": "ipython3",
   "version": "3.7.7"
  }
 },
 "nbformat": 4,
 "nbformat_minor": 4
}
